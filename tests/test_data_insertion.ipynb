{
 "cells": [
  {
   "cell_type": "code",
   "metadata": {
    "ExecuteTime": {
     "end_time": "2025-09-17T06:03:01.458132Z",
     "start_time": "2025-09-17T06:03:00.939968Z"
    }
   },
   "source": [
    "print(\"start\")\n",
    "from chdb import session\n",
    "print(\"Connecting to database\")\n",
    "chs = session.Session()\n",
    "print(\"Creating database\")\n",
    "chs.query(\"CREATE DATABASE IF NOT EXISTS movie_embeddings ENGINE = Atomic\")\n",
    "print(\"Creating table\")\n",
    "chs.query(\"USE movie_embeddings\")\n",
    "chs.query('DROP TABLE IF EXISTS embeddings')\n",
    "chs.query('DROP TABLE IF EXISTS embeddings_with_title')\n",
    "\n",
    "print(\"Creating table with movie titles\")\n",
    "\n",
    "chs.query(\"\"\"CREATE TABLE embeddings (\n",
    "      movieId UInt32 NOT NULL,\n",
    "      embedding Array(Float32) NOT NULL\n",
    "  ) ENGINE = MergeTree()\n",
    "  ORDER BY movieId\"\"\")\n",
    "\n",
    "print(\"Inserting movie embeddings into the database\")\n",
    "\n",
    "# Insert from INFILE and VALUES got stuck either\n",
    "# chs.query(\"INSERT INTO embeddings FROM INFILE 'movie_embeddings.csv' FORMAT CSV\")\n",
    "chs.query(\"INSERT INTO embeddings VALUES (1, [1,2,3,4,5,6,7,8,9,10])\")\n",
    "print(chs.query('SELECT * FROM embeddings LIMIT 5'))"
   ],
   "outputs": [
    {
     "name": "stdout",
     "output_type": "stream",
     "text": [
      "start\n",
      "Connecting to database\n",
      "Creating database\n",
      "Creating table\n",
      "Creating table with movie titles\n",
      "Inserting movie embeddings into the database\n",
      "1,\"[1,2,3,4,5,6,7,8,9,10]\"\n",
      "\n"
     ]
    }
   ],
   "execution_count": 1
  }
 ],
 "metadata": {
  "kernelspec": {
   "display_name": "Python 3",
   "language": "python",
   "name": "python3"
  },
  "language_info": {
   "codemirror_mode": {
    "name": "ipython",
    "version": 3
   },
   "file_extension": ".py",
   "mimetype": "text/x-python",
   "name": "python",
   "nbconvert_exporter": "python",
   "pygments_lexer": "ipython3",
   "version": "3.8.0"
  }
 },
 "nbformat": 4,
 "nbformat_minor": 4
}
